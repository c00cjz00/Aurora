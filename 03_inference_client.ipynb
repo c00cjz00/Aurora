{
 "cells": [
  {
   "cell_type": "markdown",
   "id": "98a933f0-343f-49f3-969b-67ef1ee98711",
   "metadata": {},
   "source": [
    "# Inference Client"
   ]
  },
  {
   "cell_type": "code",
   "execution_count": null,
   "id": "c1564a9a-934a-44ca-8d6f-c979dbc21cec",
   "metadata": {},
   "outputs": [],
   "source": [
    "pip install text_generation"
   ]
  },
  {
   "cell_type": "markdown",
   "id": "cefd4174-eeff-4854-ab08-22b447189ddd",
   "metadata": {},
   "source": [
    "## langchain"
   ]
  },
  {
   "cell_type": "code",
   "execution_count": null,
   "id": "c448e4d5-eec6-4ce7-a9d4-11ad14a1796a",
   "metadata": {},
   "outputs": [],
   "source": [
    "##OEPNAPI\n",
    "from langchain.chat_models import ChatOpenAI\n",
    "llm = ChatOpenAI(\n",
    "        openai_api_base=\"http://gpn3002:9000/v1\",\n",
    "        openai_api_key=\"EMPTY\",\n",
    "        streaming=True,\n",
    "    )\n",
    "\n",
    "#使用會話實體內存，利用ChatGLM在會話過程中分析提到的實體（Entity）\n",
    "from langchain.chains.conversation.memory import ConversationEntityMemory\n",
    "from langchain.chains.conversation.prompt import ENTITY_MEMORY_CONVERSATION_TEMPLATE\n",
    "entity_memory = ConversationEntityMemory(llm=llm, k=5 )\n",
    "\n",
    "#生成對話鍊\n",
    "from langchain.chains import ConversationChain\n",
    "Conversation = ConversationChain(\n",
    "            llm=llm, \n",
    "            prompt=ENTITY_MEMORY_CONVERSATION_TEMPLATE,\n",
    "            memory=entity_memory,\n",
    "            verbose=True,\n",
    "        ) \n",
    "#开始测试\n",
    "#Conversation.run(\"寫一篇關於黃昏的描述, 要求細緻生動, 景色美好\")\n",
    "Conversation.run(\"小名手上有100顆蘋果, 送給小君10個, 又送給小林9個, 請問小名手上剩下幾個蘋果\")"
   ]
  },
  {
   "cell_type": "code",
   "execution_count": null,
   "id": "cbe10900-99a3-4888-ba5a-6134bb466ea6",
   "metadata": {},
   "outputs": [],
   "source": []
  }
 ],
 "metadata": {
  "kernelspec": {
   "display_name": "Image_S_work-media-tek_pytorch_2.1.2-cuda11.8-cudnn8-devel_opencv",
   "language": "python",
   "name": "s_work-media-tek_pytorch_2.1.2-cuda11.8-cudnn8-devel_opencv"
  },
  "language_info": {
   "codemirror_mode": {
    "name": "ipython",
    "version": 3
   },
   "file_extension": ".py",
   "mimetype": "text/x-python",
   "name": "python",
   "nbconvert_exporter": "python",
   "pygments_lexer": "ipython3",
   "version": "3.10.13"
  }
 },
 "nbformat": 4,
 "nbformat_minor": 5
}
